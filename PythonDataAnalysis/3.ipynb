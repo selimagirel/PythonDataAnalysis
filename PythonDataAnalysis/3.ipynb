{
 "cells": [
  {
   "cell_type": "code",
   "execution_count": 1,
   "id": "initial_id",
   "metadata": {
    "collapsed": true,
    "ExecuteTime": {
     "end_time": "2023-11-27T16:16:03.696523Z",
     "start_time": "2023-11-27T16:16:03.474828Z"
    }
   },
   "outputs": [],
   "source": [
    "import numpy as np\n",
    "import pandas as pd"
   ]
  },
  {
   "cell_type": "code",
   "execution_count": 3,
   "outputs": [],
   "source": [
    "myindex = ['USA','Canada','Mexico']"
   ],
   "metadata": {
    "collapsed": false,
    "ExecuteTime": {
     "end_time": "2023-11-27T16:17:42.982950Z",
     "start_time": "2023-11-27T16:17:42.981323Z"
    }
   },
   "id": "655ea8e32b9c052e"
  },
  {
   "cell_type": "code",
   "execution_count": 4,
   "outputs": [],
   "source": [
    "mydata = [1776,1867,1821]"
   ],
   "metadata": {
    "collapsed": false,
    "ExecuteTime": {
     "end_time": "2023-11-27T16:18:10.822374Z",
     "start_time": "2023-11-27T16:18:10.810553Z"
    }
   },
   "id": "4d1f01017cd5536e"
  },
  {
   "cell_type": "code",
   "execution_count": 7,
   "outputs": [],
   "source": [
    "myser = pd.Series(data=mydata,index=myindex)"
   ],
   "metadata": {
    "collapsed": false,
    "ExecuteTime": {
     "end_time": "2023-11-27T16:19:17.812933Z",
     "start_time": "2023-11-27T16:19:17.801839Z"
    }
   },
   "id": "41886a77b14fdac6"
  },
  {
   "cell_type": "code",
   "execution_count": 8,
   "outputs": [
    {
     "data": {
      "text/plain": "USA       1776\nCanada    1867\nMexico    1821\ndtype: int64"
     },
     "execution_count": 8,
     "metadata": {},
     "output_type": "execute_result"
    }
   ],
   "source": [
    "myser"
   ],
   "metadata": {
    "collapsed": false,
    "ExecuteTime": {
     "end_time": "2023-11-27T16:19:18.463581Z",
     "start_time": "2023-11-27T16:19:18.457308Z"
    }
   },
   "id": "400ff7074631fe40"
  },
  {
   "cell_type": "code",
   "execution_count": 9,
   "outputs": [
    {
     "name": "stderr",
     "output_type": "stream",
     "text": [
      "/var/folders/4b/fsp_t7lx0w7cs8c3kflxrwlr0000gn/T/ipykernel_46256/954308421.py:1: FutureWarning: Series.__getitem__ treating keys as positions is deprecated. In a future version, integer keys will always be treated as labels (consistent with DataFrame behavior). To access a value by position, use `ser.iloc[pos]`\n",
      "  myser[0]\n"
     ]
    },
    {
     "data": {
      "text/plain": "1776"
     },
     "execution_count": 9,
     "metadata": {},
     "output_type": "execute_result"
    }
   ],
   "source": [
    "myser[0]"
   ],
   "metadata": {
    "collapsed": false,
    "ExecuteTime": {
     "end_time": "2023-11-27T16:19:32.855365Z",
     "start_time": "2023-11-27T16:19:32.846491Z"
    }
   },
   "id": "76a88faf1f8d64d6"
  },
  {
   "cell_type": "code",
   "execution_count": 10,
   "outputs": [
    {
     "data": {
      "text/plain": "1776"
     },
     "execution_count": 10,
     "metadata": {},
     "output_type": "execute_result"
    }
   ],
   "source": [
    "myser['USA']"
   ],
   "metadata": {
    "collapsed": false,
    "ExecuteTime": {
     "end_time": "2023-11-27T16:19:43.681780Z",
     "start_time": "2023-11-27T16:19:43.670820Z"
    }
   },
   "id": "987bd91205d629d0"
  },
  {
   "cell_type": "code",
   "execution_count": 11,
   "outputs": [],
   "source": [
    "ages = {'sam': 5, 'frank' : 10, 'spike' :7}"
   ],
   "metadata": {
    "collapsed": false,
    "ExecuteTime": {
     "end_time": "2023-11-27T16:20:52.239987Z",
     "start_time": "2023-11-27T16:20:52.231652Z"
    }
   },
   "id": "773d543ab2365f67"
  },
  {
   "cell_type": "code",
   "execution_count": 12,
   "outputs": [
    {
     "data": {
      "text/plain": "sam       5\nfrank    10\nspike     7\ndtype: int64"
     },
     "execution_count": 12,
     "metadata": {},
     "output_type": "execute_result"
    }
   ],
   "source": [
    "pd.Series(ages)"
   ],
   "metadata": {
    "collapsed": false,
    "ExecuteTime": {
     "end_time": "2023-11-27T16:21:01.638748Z",
     "start_time": "2023-11-27T16:21:01.627337Z"
    }
   },
   "id": "87e053ae9001b432"
  },
  {
   "cell_type": "code",
   "execution_count": 13,
   "outputs": [],
   "source": [
    "q1 = {'Japan': 80, 'China': 450, 'India': 200, 'USA': 250}\n",
    "q2 = {'Brazil': 100,'China': 500, 'India': 210,'USA': 260}"
   ],
   "metadata": {
    "collapsed": false,
    "ExecuteTime": {
     "end_time": "2023-11-27T16:24:24.407723Z",
     "start_time": "2023-11-27T16:24:24.396957Z"
    }
   },
   "id": "c85dac78e72e4139"
  },
  {
   "cell_type": "code",
   "execution_count": 14,
   "outputs": [],
   "source": [
    "sales_q1 = pd.Series(q1)"
   ],
   "metadata": {
    "collapsed": false,
    "ExecuteTime": {
     "end_time": "2023-11-27T16:24:49.253726Z",
     "start_time": "2023-11-27T16:24:49.245905Z"
    }
   },
   "id": "ead2395664091b27"
  },
  {
   "cell_type": "code",
   "execution_count": 15,
   "outputs": [],
   "source": [
    "sales_q2 = pd.Series(q2)"
   ],
   "metadata": {
    "collapsed": false,
    "ExecuteTime": {
     "end_time": "2023-11-27T16:25:01.713863Z",
     "start_time": "2023-11-27T16:25:01.698956Z"
    }
   },
   "id": "a5d532b796b6620"
  },
  {
   "cell_type": "code",
   "execution_count": 16,
   "outputs": [
    {
     "data": {
      "text/plain": "Japan     80\nChina    450\nIndia    200\nUSA      250\ndtype: int64"
     },
     "execution_count": 16,
     "metadata": {},
     "output_type": "execute_result"
    }
   ],
   "source": [
    "sales_q1"
   ],
   "metadata": {
    "collapsed": false,
    "ExecuteTime": {
     "end_time": "2023-11-27T16:25:07.663853Z",
     "start_time": "2023-11-27T16:25:07.650943Z"
    }
   },
   "id": "d424b582a6266a07"
  },
  {
   "cell_type": "code",
   "execution_count": 17,
   "outputs": [
    {
     "data": {
      "text/plain": "Brazil    100\nChina     500\nIndia     210\nUSA       260\ndtype: int64"
     },
     "execution_count": 17,
     "metadata": {},
     "output_type": "execute_result"
    }
   ],
   "source": [
    "sales_q2"
   ],
   "metadata": {
    "collapsed": false,
    "ExecuteTime": {
     "end_time": "2023-11-27T16:25:10.711515Z",
     "start_time": "2023-11-27T16:25:10.703400Z"
    }
   },
   "id": "2a5bed048e2b9d90"
  },
  {
   "cell_type": "code",
   "execution_count": 18,
   "outputs": [
    {
     "data": {
      "text/plain": "80"
     },
     "execution_count": 18,
     "metadata": {},
     "output_type": "execute_result"
    }
   ],
   "source": [
    "sales_q1['Japan']"
   ],
   "metadata": {
    "collapsed": false,
    "ExecuteTime": {
     "end_time": "2023-11-27T16:25:31.015580Z",
     "start_time": "2023-11-27T16:25:31.004441Z"
    }
   },
   "id": "83eb03e2f93b8728"
  },
  {
   "cell_type": "code",
   "execution_count": 19,
   "outputs": [
    {
     "data": {
      "text/plain": "Index(['Japan', 'China', 'India', 'USA'], dtype='object')"
     },
     "execution_count": 19,
     "metadata": {},
     "output_type": "execute_result"
    }
   ],
   "source": [
    "sales_q1.keys()"
   ],
   "metadata": {
    "collapsed": false,
    "ExecuteTime": {
     "end_time": "2023-11-27T16:26:13.760893Z",
     "start_time": "2023-11-27T16:26:13.750116Z"
    }
   },
   "id": "511a6d7de2b0a632"
  },
  {
   "cell_type": "code",
   "execution_count": 20,
   "outputs": [
    {
     "data": {
      "text/plain": "Japan    160\nChina    900\nIndia    400\nUSA      500\ndtype: int64"
     },
     "execution_count": 20,
     "metadata": {},
     "output_type": "execute_result"
    }
   ],
   "source": [
    "sales_q1 * 2"
   ],
   "metadata": {
    "collapsed": false,
    "ExecuteTime": {
     "end_time": "2023-11-27T16:27:08.952035Z",
     "start_time": "2023-11-27T16:27:08.944171Z"
    }
   },
   "id": "a0d21e0276805284"
  },
  {
   "cell_type": "code",
   "execution_count": 21,
   "outputs": [
    {
     "data": {
      "text/plain": "Japan    0.8\nChina    4.5\nIndia    2.0\nUSA      2.5\ndtype: float64"
     },
     "execution_count": 21,
     "metadata": {},
     "output_type": "execute_result"
    }
   ],
   "source": [
    "sales_q1 / 100"
   ],
   "metadata": {
    "collapsed": false,
    "ExecuteTime": {
     "end_time": "2023-11-27T16:27:18.951105Z",
     "start_time": "2023-11-27T16:27:18.944892Z"
    }
   },
   "id": "56b83fffef3fcbaf"
  },
  {
   "cell_type": "code",
   "execution_count": 22,
   "outputs": [
    {
     "data": {
      "text/plain": "Japan     80\nChina    450\nIndia    200\nUSA      250\ndtype: int64"
     },
     "execution_count": 22,
     "metadata": {},
     "output_type": "execute_result"
    }
   ],
   "source": [
    "sales_q1"
   ],
   "metadata": {
    "collapsed": false,
    "ExecuteTime": {
     "end_time": "2023-11-27T16:27:50.198967Z",
     "start_time": "2023-11-27T16:27:50.182921Z"
    }
   },
   "id": "a776e36571e47156"
  },
  {
   "cell_type": "code",
   "execution_count": 23,
   "outputs": [
    {
     "data": {
      "text/plain": "Brazil    100\nChina     500\nIndia     210\nUSA       260\ndtype: int64"
     },
     "execution_count": 23,
     "metadata": {},
     "output_type": "execute_result"
    }
   ],
   "source": [
    "sales_q2"
   ],
   "metadata": {
    "collapsed": false,
    "ExecuteTime": {
     "end_time": "2023-11-27T16:27:52.933488Z",
     "start_time": "2023-11-27T16:27:52.921386Z"
    }
   },
   "id": "bb07e40bac325ce0"
  },
  {
   "cell_type": "code",
   "execution_count": 24,
   "outputs": [
    {
     "data": {
      "text/plain": "Brazil      NaN\nChina     950.0\nIndia     410.0\nJapan       NaN\nUSA       510.0\ndtype: float64"
     },
     "execution_count": 24,
     "metadata": {},
     "output_type": "execute_result"
    }
   ],
   "source": [
    "sales_q1 + sales_q2"
   ],
   "metadata": {
    "collapsed": false,
    "ExecuteTime": {
     "end_time": "2023-11-27T16:28:04.571514Z",
     "start_time": "2023-11-27T16:28:04.561193Z"
    }
   },
   "id": "b7e63433ee8cf925"
  },
  {
   "cell_type": "code",
   "execution_count": 26,
   "outputs": [],
   "source": [
    "first_half = sales_q1.add(sales_q2,fill_value=0)"
   ],
   "metadata": {
    "collapsed": false,
    "ExecuteTime": {
     "end_time": "2023-11-27T16:30:35.056188Z",
     "start_time": "2023-11-27T16:30:35.055270Z"
    }
   },
   "id": "31c985eec673ab28"
  },
  {
   "cell_type": "code",
   "execution_count": 27,
   "outputs": [
    {
     "data": {
      "text/plain": "dtype('float64')"
     },
     "execution_count": 27,
     "metadata": {},
     "output_type": "execute_result"
    }
   ],
   "source": [
    "first_half.dtype"
   ],
   "metadata": {
    "collapsed": false,
    "ExecuteTime": {
     "end_time": "2023-11-27T16:30:43.514512Z",
     "start_time": "2023-11-27T16:30:43.499258Z"
    }
   },
   "id": "a2aa583e104dd24b"
  },
  {
   "cell_type": "code",
   "execution_count": 28,
   "outputs": [
    {
     "data": {
      "text/plain": "Brazil    100.0\nChina     950.0\nIndia     410.0\nJapan      80.0\nUSA       510.0\ndtype: float64"
     },
     "execution_count": 28,
     "metadata": {},
     "output_type": "execute_result"
    }
   ],
   "source": [
    "first_half"
   ],
   "metadata": {
    "collapsed": false,
    "ExecuteTime": {
     "end_time": "2023-11-27T16:30:48.263277Z",
     "start_time": "2023-11-27T16:30:48.248009Z"
    }
   },
   "id": "a5b4c5f361c48e25"
  },
  {
   "cell_type": "code",
   "execution_count": null,
   "outputs": [],
   "source": [],
   "metadata": {
    "collapsed": false
   },
   "id": "7fcfafe4cf27b046"
  }
 ],
 "metadata": {
  "kernelspec": {
   "display_name": "Python 3",
   "language": "python",
   "name": "python3"
  },
  "language_info": {
   "codemirror_mode": {
    "name": "ipython",
    "version": 2
   },
   "file_extension": ".py",
   "mimetype": "text/x-python",
   "name": "python",
   "nbconvert_exporter": "python",
   "pygments_lexer": "ipython2",
   "version": "2.7.6"
  }
 },
 "nbformat": 4,
 "nbformat_minor": 5
}
