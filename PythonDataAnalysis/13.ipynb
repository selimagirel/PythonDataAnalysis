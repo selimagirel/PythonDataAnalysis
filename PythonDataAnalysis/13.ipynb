{
 "cells": [
  {
   "cell_type": "code",
   "execution_count": 1,
   "id": "initial_id",
   "metadata": {
    "collapsed": true,
    "ExecuteTime": {
     "end_time": "2023-11-28T16:27:11.756874Z",
     "start_time": "2023-11-28T16:27:11.533135Z"
    }
   },
   "outputs": [],
   "source": [
    "import numpy as np\n",
    "import pandas as pd"
   ]
  },
  {
   "cell_type": "code",
   "execution_count": 2,
   "outputs": [],
   "source": [
    "url = \"https://en.wikipedia.org/wiki/World_population\""
   ],
   "metadata": {
    "collapsed": false,
    "ExecuteTime": {
     "end_time": "2023-11-28T16:28:21.514793Z",
     "start_time": "2023-11-28T16:28:21.502371Z"
    }
   },
   "id": "5f2b9dcb3e6c62df"
  },
  {
   "cell_type": "code",
   "execution_count": 3,
   "outputs": [],
   "source": [
    "tables = pd.read_html(url)"
   ],
   "metadata": {
    "collapsed": false,
    "ExecuteTime": {
     "end_time": "2023-11-28T16:28:45.418548Z",
     "start_time": "2023-11-28T16:28:44.670401Z"
    }
   },
   "id": "239b3974e97e947a"
  },
  {
   "cell_type": "code",
   "execution_count": 4,
   "outputs": [
    {
     "data": {
      "text/plain": "29"
     },
     "execution_count": 4,
     "metadata": {},
     "output_type": "execute_result"
    }
   ],
   "source": [
    "len(tables)"
   ],
   "metadata": {
    "collapsed": false,
    "ExecuteTime": {
     "end_time": "2023-11-28T16:29:15.740208Z",
     "start_time": "2023-11-28T16:29:15.732449Z"
    }
   },
   "id": "fa624cd65a7abd75"
  },
  {
   "cell_type": "code",
   "execution_count": 5,
   "outputs": [
    {
     "data": {
      "text/plain": "      Population         1     2     3     4     5     6     7     8     9  \\\n0           Year      1804  1927  1960  1974  1987  1999  2011  2022  2037   \n1  Years elapsed  200,000+   123    33    14    13    12    12    11    15   \n\n     10  \n0  2057  \n1    20  ",
      "text/html": "<div>\n<style scoped>\n    .dataframe tbody tr th:only-of-type {\n        vertical-align: middle;\n    }\n\n    .dataframe tbody tr th {\n        vertical-align: top;\n    }\n\n    .dataframe thead th {\n        text-align: right;\n    }\n</style>\n<table border=\"1\" class=\"dataframe\">\n  <thead>\n    <tr style=\"text-align: right;\">\n      <th></th>\n      <th>Population</th>\n      <th>1</th>\n      <th>2</th>\n      <th>3</th>\n      <th>4</th>\n      <th>5</th>\n      <th>6</th>\n      <th>7</th>\n      <th>8</th>\n      <th>9</th>\n      <th>10</th>\n    </tr>\n  </thead>\n  <tbody>\n    <tr>\n      <th>0</th>\n      <td>Year</td>\n      <td>1804</td>\n      <td>1927</td>\n      <td>1960</td>\n      <td>1974</td>\n      <td>1987</td>\n      <td>1999</td>\n      <td>2011</td>\n      <td>2022</td>\n      <td>2037</td>\n      <td>2057</td>\n    </tr>\n    <tr>\n      <th>1</th>\n      <td>Years elapsed</td>\n      <td>200,000+</td>\n      <td>123</td>\n      <td>33</td>\n      <td>14</td>\n      <td>13</td>\n      <td>12</td>\n      <td>12</td>\n      <td>11</td>\n      <td>15</td>\n      <td>20</td>\n    </tr>\n  </tbody>\n</table>\n</div>"
     },
     "execution_count": 5,
     "metadata": {},
     "output_type": "execute_result"
    }
   ],
   "source": [
    "tables[0]"
   ],
   "metadata": {
    "collapsed": false,
    "ExecuteTime": {
     "end_time": "2023-11-28T16:29:31.661281Z",
     "start_time": "2023-11-28T16:29:31.648416Z"
    }
   },
   "id": "77ebcc97ec2a44ab"
  },
  {
   "cell_type": "code",
   "execution_count": 6,
   "outputs": [
    {
     "data": {
      "text/plain": "                               Region  2022 (percent)  2030 (percent)  \\\n0                  Sub-Saharan Africa  1,152 (14.51%)  1,401 (16.46%)   \n1    Northern Africa and Western Asia     549 (6.91%)     617 (7.25%)   \n2      Central Asia and Southern Asia  2,075 (26.13%)  2,248 (26.41%)   \n3  Eastern Asia and Southeastern Asia  2,342 (29.49%)  2,372 (27.87%)   \n4         Europe and Northern America  1,120 (14.10%)  1,129 (13.26%)   \n5     Latin America and the Caribbean     658 (8.29%)     695 (8.17%)   \n6           Australia and New Zealand      31 (0.39%)      34 (0.40%)   \n7                             Oceania      14 (0.18%)      15 (0.18%)   \n8                               World            7942            8512   \n\n   2050 (percent)  \n0  2,094 (21.62%)  \n1     771 (7.96%)  \n2  2,575 (26.58%)  \n3  2,317 (23.92%)  \n4  1,125 (11.61%)  \n5     749 (7.73%)  \n6      38 (0.39%)  \n7      20 (0.21%)  \n8            9687  ",
      "text/html": "<div>\n<style scoped>\n    .dataframe tbody tr th:only-of-type {\n        vertical-align: middle;\n    }\n\n    .dataframe tbody tr th {\n        vertical-align: top;\n    }\n\n    .dataframe thead th {\n        text-align: right;\n    }\n</style>\n<table border=\"1\" class=\"dataframe\">\n  <thead>\n    <tr style=\"text-align: right;\">\n      <th></th>\n      <th>Region</th>\n      <th>2022 (percent)</th>\n      <th>2030 (percent)</th>\n      <th>2050 (percent)</th>\n    </tr>\n  </thead>\n  <tbody>\n    <tr>\n      <th>0</th>\n      <td>Sub-Saharan Africa</td>\n      <td>1,152 (14.51%)</td>\n      <td>1,401 (16.46%)</td>\n      <td>2,094 (21.62%)</td>\n    </tr>\n    <tr>\n      <th>1</th>\n      <td>Northern Africa and Western Asia</td>\n      <td>549 (6.91%)</td>\n      <td>617 (7.25%)</td>\n      <td>771 (7.96%)</td>\n    </tr>\n    <tr>\n      <th>2</th>\n      <td>Central Asia and Southern Asia</td>\n      <td>2,075 (26.13%)</td>\n      <td>2,248 (26.41%)</td>\n      <td>2,575 (26.58%)</td>\n    </tr>\n    <tr>\n      <th>3</th>\n      <td>Eastern Asia and Southeastern Asia</td>\n      <td>2,342 (29.49%)</td>\n      <td>2,372 (27.87%)</td>\n      <td>2,317 (23.92%)</td>\n    </tr>\n    <tr>\n      <th>4</th>\n      <td>Europe and Northern America</td>\n      <td>1,120 (14.10%)</td>\n      <td>1,129 (13.26%)</td>\n      <td>1,125 (11.61%)</td>\n    </tr>\n    <tr>\n      <th>5</th>\n      <td>Latin America and the Caribbean</td>\n      <td>658 (8.29%)</td>\n      <td>695 (8.17%)</td>\n      <td>749 (7.73%)</td>\n    </tr>\n    <tr>\n      <th>6</th>\n      <td>Australia and New Zealand</td>\n      <td>31 (0.39%)</td>\n      <td>34 (0.40%)</td>\n      <td>38 (0.39%)</td>\n    </tr>\n    <tr>\n      <th>7</th>\n      <td>Oceania</td>\n      <td>14 (0.18%)</td>\n      <td>15 (0.18%)</td>\n      <td>20 (0.21%)</td>\n    </tr>\n    <tr>\n      <th>8</th>\n      <td>World</td>\n      <td>7942</td>\n      <td>8512</td>\n      <td>9687</td>\n    </tr>\n  </tbody>\n</table>\n</div>"
     },
     "execution_count": 6,
     "metadata": {},
     "output_type": "execute_result"
    }
   ],
   "source": [
    "tables[1]"
   ],
   "metadata": {
    "collapsed": false,
    "ExecuteTime": {
     "end_time": "2023-11-28T16:29:53.182019Z",
     "start_time": "2023-11-28T16:29:53.171601Z"
    }
   },
   "id": "462a44fda4372579"
  },
  {
   "cell_type": "code",
   "execution_count": 9,
   "outputs": [],
   "source": [
    "world_topten = tables[1]"
   ],
   "metadata": {
    "collapsed": false,
    "ExecuteTime": {
     "end_time": "2023-11-28T16:30:54.975444Z",
     "start_time": "2023-11-28T16:30:54.963907Z"
    }
   },
   "id": "b7cd3a2e4ee427a2"
  },
  {
   "cell_type": "code",
   "execution_count": 9,
   "outputs": [],
   "source": [],
   "metadata": {
    "collapsed": false,
    "ExecuteTime": {
     "end_time": "2023-11-28T16:31:21.613539Z",
     "start_time": "2023-11-28T16:31:21.601451Z"
    }
   },
   "id": "8e097f267f618ac2"
  },
  {
   "cell_type": "code",
   "execution_count": null,
   "outputs": [],
   "source": [],
   "metadata": {
    "collapsed": false
   },
   "id": "9c49e25fae466b8a"
  }
 ],
 "metadata": {
  "kernelspec": {
   "display_name": "Python 3",
   "language": "python",
   "name": "python3"
  },
  "language_info": {
   "codemirror_mode": {
    "name": "ipython",
    "version": 2
   },
   "file_extension": ".py",
   "mimetype": "text/x-python",
   "name": "python",
   "nbconvert_exporter": "python",
   "pygments_lexer": "ipython2",
   "version": "2.7.6"
  }
 },
 "nbformat": 4,
 "nbformat_minor": 5
}
